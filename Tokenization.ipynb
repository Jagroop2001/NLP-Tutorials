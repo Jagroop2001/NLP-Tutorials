{
  "nbformat": 4,
  "nbformat_minor": 0,
  "metadata": {
    "colab": {
      "provenance": []
    },
    "kernelspec": {
      "name": "python3",
      "display_name": "Python 3"
    },
    "language_info": {
      "name": "python"
    }
  },
  "cells": [
    {
      "cell_type": "code",
      "execution_count": 1,
      "metadata": {
        "id": "oEPazHSK_yqs"
      },
      "outputs": [],
      "source": [
        "from nltk.tokenize import sent_tokenize"
      ]
    },
    {
      "cell_type": "code",
      "source": [
        "import nltk\n",
        "nltk.download('punkt', force=True)"
      ],
      "metadata": {
        "colab": {
          "base_uri": "https://localhost:8080/"
        },
        "id": "036wYJcqAFLl",
        "outputId": "9f7e39b1-3d62-4b1d-d176-ef0fde564c56"
      },
      "execution_count": 4,
      "outputs": [
        {
          "output_type": "stream",
          "name": "stderr",
          "text": [
            "[nltk_data] Downloading package punkt to /root/nltk_data...\n",
            "[nltk_data]   Unzipping tokenizers/punkt.zip.\n"
          ]
        },
        {
          "output_type": "execute_result",
          "data": {
            "text/plain": [
              "True"
            ]
          },
          "metadata": {},
          "execution_count": 4
        }
      ]
    },
    {
      "cell_type": "code",
      "source": [
        "corpus= \"\"\"\n",
        "Natural Language Processing with Python provides a practical introduction to programming for language processing. Written by the creators of NLTK, it guides the reader through the fundamentals of writing Python programs, working with corpora, categorizing text, analyzing linguistic structure, and more. The online version of the book has been been updated for Python 3 and NLTK 3.\n",
        "\"\"\""
      ],
      "metadata": {
        "id": "dETwrFnm_1um"
      },
      "execution_count": 5,
      "outputs": []
    },
    {
      "cell_type": "code",
      "source": [
        "#Sentence to Paragraph\n",
        "documents = sent_tokenize(corpus)"
      ],
      "metadata": {
        "id": "uMs4f3k7_6D_"
      },
      "execution_count": 7,
      "outputs": []
    },
    {
      "cell_type": "code",
      "source": [
        "for sentence in documents:\n",
        "  print(sentence)"
      ],
      "metadata": {
        "colab": {
          "base_uri": "https://localhost:8080/"
        },
        "id": "SvLHxzim_9iN",
        "outputId": "0c1b9c26-5f0e-4959-9cda-1e8f9c28f247"
      },
      "execution_count": 8,
      "outputs": [
        {
          "output_type": "stream",
          "name": "stdout",
          "text": [
            " \n",
            "Natural Language Processing with Python provides a practical introduction to programming for language processing.\n",
            "Written by the creators of NLTK, it guides the reader through the fundamentals of writing Python programs, working with corpora, categorizing text, analyzing linguistic structure, and more.\n",
            "The online version of the book has been been updated for Python 3 and NLTK 3.\n"
          ]
        }
      ]
    },
    {
      "cell_type": "code",
      "source": [
        "# Tokenization :\n",
        "# Paragraph -> Words\n",
        "# sentence -> words\n",
        "\n",
        "from nltk.tokenize import word_tokenize"
      ],
      "metadata": {
        "id": "AkNBYwUDAadV"
      },
      "execution_count": 9,
      "outputs": []
    },
    {
      "cell_type": "code",
      "source": [
        "word_tokenize(corpus)"
      ],
      "metadata": {
        "colab": {
          "base_uri": "https://localhost:8080/"
        },
        "id": "yi-2yjB7Amze",
        "outputId": "9307398d-ece9-45e0-aef3-ff71a6c5c182"
      },
      "execution_count": 10,
      "outputs": [
        {
          "output_type": "execute_result",
          "data": {
            "text/plain": [
              "['Natural',\n",
              " 'Language',\n",
              " 'Processing',\n",
              " 'with',\n",
              " 'Python',\n",
              " 'provides',\n",
              " 'a',\n",
              " 'practical',\n",
              " 'introduction',\n",
              " 'to',\n",
              " 'programming',\n",
              " 'for',\n",
              " 'language',\n",
              " 'processing',\n",
              " '.',\n",
              " 'Written',\n",
              " 'by',\n",
              " 'the',\n",
              " 'creators',\n",
              " 'of',\n",
              " 'NLTK',\n",
              " ',',\n",
              " 'it',\n",
              " 'guides',\n",
              " 'the',\n",
              " 'reader',\n",
              " 'through',\n",
              " 'the',\n",
              " 'fundamentals',\n",
              " 'of',\n",
              " 'writing',\n",
              " 'Python',\n",
              " 'programs',\n",
              " ',',\n",
              " 'working',\n",
              " 'with',\n",
              " 'corpora',\n",
              " ',',\n",
              " 'categorizing',\n",
              " 'text',\n",
              " ',',\n",
              " 'analyzing',\n",
              " 'linguistic',\n",
              " 'structure',\n",
              " ',',\n",
              " 'and',\n",
              " 'more',\n",
              " '.',\n",
              " 'The',\n",
              " 'online',\n",
              " 'version',\n",
              " 'of',\n",
              " 'the',\n",
              " 'book',\n",
              " 'has',\n",
              " 'been',\n",
              " 'been',\n",
              " 'updated',\n",
              " 'for',\n",
              " 'Python',\n",
              " '3',\n",
              " 'and',\n",
              " 'NLTK',\n",
              " '3',\n",
              " '.']"
            ]
          },
          "metadata": {},
          "execution_count": 10
        }
      ]
    },
    {
      "cell_type": "code",
      "source": [
        "for sentence in documents:\n",
        "  print(word_tokenize(sentence))"
      ],
      "metadata": {
        "colab": {
          "base_uri": "https://localhost:8080/"
        },
        "id": "6JsE-Yi-Aqce",
        "outputId": "4b4d7e26-6628-4d6d-efc7-9c533d62c7f0"
      },
      "execution_count": 11,
      "outputs": [
        {
          "output_type": "stream",
          "name": "stdout",
          "text": [
            "['Natural', 'Language', 'Processing', 'with', 'Python', 'provides', 'a', 'practical', 'introduction', 'to', 'programming', 'for', 'language', 'processing', '.']\n",
            "['Written', 'by', 'the', 'creators', 'of', 'NLTK', ',', 'it', 'guides', 'the', 'reader', 'through', 'the', 'fundamentals', 'of', 'writing', 'Python', 'programs', ',', 'working', 'with', 'corpora', ',', 'categorizing', 'text', ',', 'analyzing', 'linguistic', 'structure', ',', 'and', 'more', '.']\n",
            "['The', 'online', 'version', 'of', 'the', 'book', 'has', 'been', 'been', 'updated', 'for', 'Python', '3', 'and', 'NLTK', '3', '.']\n"
          ]
        }
      ]
    },
    {
      "cell_type": "code",
      "source": [
        "from nltk.tokenize import  wordpunct_tokenize\n",
        "\n",
        "wordpunct_tokenize(corpus)"
      ],
      "metadata": {
        "colab": {
          "base_uri": "https://localhost:8080/"
        },
        "id": "hWqwAyBOA83y",
        "outputId": "636813fc-1079-4934-e18d-9186d8a8ad50"
      },
      "execution_count": 12,
      "outputs": [
        {
          "output_type": "execute_result",
          "data": {
            "text/plain": [
              "['Natural',\n",
              " 'Language',\n",
              " 'Processing',\n",
              " 'with',\n",
              " 'Python',\n",
              " 'provides',\n",
              " 'a',\n",
              " 'practical',\n",
              " 'introduction',\n",
              " 'to',\n",
              " 'programming',\n",
              " 'for',\n",
              " 'language',\n",
              " 'processing',\n",
              " '.',\n",
              " 'Written',\n",
              " 'by',\n",
              " 'the',\n",
              " 'creators',\n",
              " 'of',\n",
              " 'NLTK',\n",
              " ',',\n",
              " 'it',\n",
              " 'guides',\n",
              " 'the',\n",
              " 'reader',\n",
              " 'through',\n",
              " 'the',\n",
              " 'fundamentals',\n",
              " 'of',\n",
              " 'writing',\n",
              " 'Python',\n",
              " 'programs',\n",
              " ',',\n",
              " 'working',\n",
              " 'with',\n",
              " 'corpora',\n",
              " ',',\n",
              " 'categorizing',\n",
              " 'text',\n",
              " ',',\n",
              " 'analyzing',\n",
              " 'linguistic',\n",
              " 'structure',\n",
              " ',',\n",
              " 'and',\n",
              " 'more',\n",
              " '.',\n",
              " 'The',\n",
              " 'online',\n",
              " 'version',\n",
              " 'of',\n",
              " 'the',\n",
              " 'book',\n",
              " 'has',\n",
              " 'been',\n",
              " 'been',\n",
              " 'updated',\n",
              " 'for',\n",
              " 'Python',\n",
              " '3',\n",
              " 'and',\n",
              " 'NLTK',\n",
              " '3',\n",
              " '.']"
            ]
          },
          "metadata": {},
          "execution_count": 12
        }
      ]
    },
    {
      "cell_type": "code",
      "source": [
        "from nltk.tokenize import TreebankWordTokenizer"
      ],
      "metadata": {
        "id": "HcAwH4PnBGo2"
      },
      "execution_count": 13,
      "outputs": []
    },
    {
      "cell_type": "code",
      "source": [
        "tokenizer = TreebankWordTokenizer()\n",
        "tokenizer.tokenize(corpus)"
      ],
      "metadata": {
        "colab": {
          "base_uri": "https://localhost:8080/"
        },
        "id": "agIYax-bBMR5",
        "outputId": "ad94e227-3b81-4c08-9d8a-25bfe5b961fc"
      },
      "execution_count": 14,
      "outputs": [
        {
          "output_type": "execute_result",
          "data": {
            "text/plain": [
              "['Natural',\n",
              " 'Language',\n",
              " 'Processing',\n",
              " 'with',\n",
              " 'Python',\n",
              " 'provides',\n",
              " 'a',\n",
              " 'practical',\n",
              " 'introduction',\n",
              " 'to',\n",
              " 'programming',\n",
              " 'for',\n",
              " 'language',\n",
              " 'processing.',\n",
              " 'Written',\n",
              " 'by',\n",
              " 'the',\n",
              " 'creators',\n",
              " 'of',\n",
              " 'NLTK',\n",
              " ',',\n",
              " 'it',\n",
              " 'guides',\n",
              " 'the',\n",
              " 'reader',\n",
              " 'through',\n",
              " 'the',\n",
              " 'fundamentals',\n",
              " 'of',\n",
              " 'writing',\n",
              " 'Python',\n",
              " 'programs',\n",
              " ',',\n",
              " 'working',\n",
              " 'with',\n",
              " 'corpora',\n",
              " ',',\n",
              " 'categorizing',\n",
              " 'text',\n",
              " ',',\n",
              " 'analyzing',\n",
              " 'linguistic',\n",
              " 'structure',\n",
              " ',',\n",
              " 'and',\n",
              " 'more.',\n",
              " 'The',\n",
              " 'online',\n",
              " 'version',\n",
              " 'of',\n",
              " 'the',\n",
              " 'book',\n",
              " 'has',\n",
              " 'been',\n",
              " 'been',\n",
              " 'updated',\n",
              " 'for',\n",
              " 'Python',\n",
              " '3',\n",
              " 'and',\n",
              " 'NLTK',\n",
              " '3',\n",
              " '.']"
            ]
          },
          "metadata": {},
          "execution_count": 14
        }
      ]
    },
    {
      "cell_type": "code",
      "source": [],
      "metadata": {
        "id": "v2m1L0stBRya"
      },
      "execution_count": null,
      "outputs": []
    }
  ]
}